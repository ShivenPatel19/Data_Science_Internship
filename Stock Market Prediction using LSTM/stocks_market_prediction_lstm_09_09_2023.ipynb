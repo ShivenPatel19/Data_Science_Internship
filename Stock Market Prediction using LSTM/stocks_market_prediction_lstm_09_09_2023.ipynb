{
 "cells": [
  {
   "cell_type": "markdown",
   "id": "c204d64b",
   "metadata": {},
   "source": [
    "pip install keras"
   ]
  },
  {
   "cell_type": "markdown",
   "id": "a4b1c769",
   "metadata": {},
   "source": [
    "pip install tensorflow"
   ]
  },
  {
   "cell_type": "code",
   "execution_count": 1,
   "id": "bb880f4e",
   "metadata": {},
   "outputs": [],
   "source": [
    "import numpy as np\n",
    "import pandas as pd\n",
    "import matplotlib.pyplot as plt\n",
    "\n",
    "from sklearn.preprocessing import MinMaxScaler\n",
    "from keras.models import Sequential\n",
    "from keras.layers import Dense, LSTM, Dropout"
   ]
  },
  {
   "cell_type": "code",
   "execution_count": 2,
   "id": "f78c4b28",
   "metadata": {},
   "outputs": [],
   "source": [
    "data = pd.read_csv(\"Google_Stock_Price_Train.csv\")"
   ]
  },
  {
   "cell_type": "code",
   "execution_count": 3,
   "id": "946e0746",
   "metadata": {},
   "outputs": [
    {
     "data": {
      "text/html": [
       "<div>\n",
       "<style scoped>\n",
       "    .dataframe tbody tr th:only-of-type {\n",
       "        vertical-align: middle;\n",
       "    }\n",
       "\n",
       "    .dataframe tbody tr th {\n",
       "        vertical-align: top;\n",
       "    }\n",
       "\n",
       "    .dataframe thead th {\n",
       "        text-align: right;\n",
       "    }\n",
       "</style>\n",
       "<table border=\"1\" class=\"dataframe\">\n",
       "  <thead>\n",
       "    <tr style=\"text-align: right;\">\n",
       "      <th></th>\n",
       "      <th>Date</th>\n",
       "      <th>Open</th>\n",
       "      <th>High</th>\n",
       "      <th>Low</th>\n",
       "      <th>Close</th>\n",
       "      <th>Volume</th>\n",
       "    </tr>\n",
       "  </thead>\n",
       "  <tbody>\n",
       "    <tr>\n",
       "      <th>0</th>\n",
       "      <td>1/3/2012</td>\n",
       "      <td>325.25</td>\n",
       "      <td>332.83</td>\n",
       "      <td>324.97</td>\n",
       "      <td>663.59</td>\n",
       "      <td>7,380,500</td>\n",
       "    </tr>\n",
       "    <tr>\n",
       "      <th>1</th>\n",
       "      <td>1/4/2012</td>\n",
       "      <td>331.27</td>\n",
       "      <td>333.87</td>\n",
       "      <td>329.08</td>\n",
       "      <td>666.45</td>\n",
       "      <td>5,749,400</td>\n",
       "    </tr>\n",
       "    <tr>\n",
       "      <th>2</th>\n",
       "      <td>1/5/2012</td>\n",
       "      <td>329.83</td>\n",
       "      <td>330.75</td>\n",
       "      <td>326.89</td>\n",
       "      <td>657.21</td>\n",
       "      <td>6,590,300</td>\n",
       "    </tr>\n",
       "    <tr>\n",
       "      <th>3</th>\n",
       "      <td>1/6/2012</td>\n",
       "      <td>328.34</td>\n",
       "      <td>328.77</td>\n",
       "      <td>323.68</td>\n",
       "      <td>648.24</td>\n",
       "      <td>5,405,900</td>\n",
       "    </tr>\n",
       "    <tr>\n",
       "      <th>4</th>\n",
       "      <td>1/9/2012</td>\n",
       "      <td>322.04</td>\n",
       "      <td>322.29</td>\n",
       "      <td>309.46</td>\n",
       "      <td>620.76</td>\n",
       "      <td>11,688,800</td>\n",
       "    </tr>\n",
       "  </tbody>\n",
       "</table>\n",
       "</div>"
      ],
      "text/plain": [
       "       Date    Open    High     Low   Close      Volume\n",
       "0  1/3/2012  325.25  332.83  324.97  663.59   7,380,500\n",
       "1  1/4/2012  331.27  333.87  329.08  666.45   5,749,400\n",
       "2  1/5/2012  329.83  330.75  326.89  657.21   6,590,300\n",
       "3  1/6/2012  328.34  328.77  323.68  648.24   5,405,900\n",
       "4  1/9/2012  322.04  322.29  309.46  620.76  11,688,800"
      ]
     },
     "execution_count": 3,
     "metadata": {},
     "output_type": "execute_result"
    }
   ],
   "source": [
    "data.head()"
   ]
  },
  {
   "cell_type": "code",
   "execution_count": 4,
   "id": "39e6e8d4",
   "metadata": {},
   "outputs": [
    {
     "name": "stdout",
     "output_type": "stream",
     "text": [
      "<class 'pandas.core.frame.DataFrame'>\n",
      "RangeIndex: 1258 entries, 0 to 1257\n",
      "Data columns (total 6 columns):\n",
      " #   Column  Non-Null Count  Dtype  \n",
      "---  ------  --------------  -----  \n",
      " 0   Date    1258 non-null   object \n",
      " 1   Open    1258 non-null   float64\n",
      " 2   High    1258 non-null   float64\n",
      " 3   Low     1258 non-null   float64\n",
      " 4   Close   1258 non-null   object \n",
      " 5   Volume  1258 non-null   object \n",
      "dtypes: float64(3), object(3)\n",
      "memory usage: 59.1+ KB\n"
     ]
    }
   ],
   "source": [
    "data.info()\n",
    "# NOTE: Close column is object type, need to be convert to float64"
   ]
  },
  {
   "cell_type": "code",
   "execution_count": 5,
   "id": "989f1525",
   "metadata": {},
   "outputs": [],
   "source": [
    "# converting Close column to numeric type and dropping null rows\n",
    "data['Close'] = pd.to_numeric(data.Close, errors=\"coerce\")\n",
    "data = data.dropna()\n",
    "# taking all rows of Close column\n",
    "train_data = data.iloc[:,4:5].values"
   ]
  },
  {
   "cell_type": "code",
   "execution_count": 6,
   "id": "88c793c8",
   "metadata": {},
   "outputs": [
    {
     "name": "stdout",
     "output_type": "stream",
     "text": [
      "<class 'pandas.core.frame.DataFrame'>\n",
      "Int64Index: 1149 entries, 0 to 1257\n",
      "Data columns (total 6 columns):\n",
      " #   Column  Non-Null Count  Dtype  \n",
      "---  ------  --------------  -----  \n",
      " 0   Date    1149 non-null   object \n",
      " 1   Open    1149 non-null   float64\n",
      " 2   High    1149 non-null   float64\n",
      " 3   Low     1149 non-null   float64\n",
      " 4   Close   1149 non-null   float64\n",
      " 5   Volume  1149 non-null   object \n",
      "dtypes: float64(4), object(2)\n",
      "memory usage: 62.8+ KB\n"
     ]
    }
   ],
   "source": [
    "data.info()"
   ]
  },
  {
   "cell_type": "code",
   "execution_count": 7,
   "id": "7d34b69b",
   "metadata": {},
   "outputs": [
    {
     "data": {
      "text/plain": [
       "array([[663.59],\n",
       "       [666.45],\n",
       "       [657.21],\n",
       "       ...,\n",
       "       [785.05],\n",
       "       [782.79],\n",
       "       [771.82]])"
      ]
     },
     "execution_count": 7,
     "metadata": {},
     "output_type": "execute_result"
    }
   ],
   "source": [
    "train_data"
   ]
  },
  {
   "cell_type": "code",
   "execution_count": 8,
   "id": "79773f4a",
   "metadata": {},
   "outputs": [
    {
     "data": {
      "text/plain": [
       "(1149, 1)"
      ]
     },
     "execution_count": 8,
     "metadata": {},
     "output_type": "execute_result"
    }
   ],
   "source": [
    "sc = MinMaxScaler(feature_range=(0,1))\n",
    "train_data = sc.fit_transform(train_data)\n",
    "train_data.shape"
   ]
  },
  {
   "cell_type": "code",
   "execution_count": 9,
   "id": "d1ab4c89",
   "metadata": {},
   "outputs": [],
   "source": [
    "# preparing data for training\n",
    "\n",
    "x_train = []\n",
    "y_train = []\n",
    "\n",
    "# 5 --> timestep and 1149 --> length of data\n",
    "for i in range(5, 1149):\n",
    "    x_train.append(train_data[i-5:i,0])\n",
    "    y_train.append(train_data[i,0])\n",
    "\n",
    "x_train, y_train = np.array(x_train), np.array(y_train)"
   ]
  },
  {
   "cell_type": "code",
   "execution_count": 10,
   "id": "559b3e2b",
   "metadata": {},
   "outputs": [
    {
     "data": {
      "text/plain": [
       "(1144, 5, 1)"
      ]
     },
     "execution_count": 10,
     "metadata": {},
     "output_type": "execute_result"
    }
   ],
   "source": [
    "x_train = np.reshape(x_train,(x_train.shape[0],x_train.shape[1],1)) # adding the batch_size axis\n",
    "x_train.shape"
   ]
  },
  {
   "cell_type": "code",
   "execution_count": 33,
   "id": "f33fa2b2",
   "metadata": {},
   "outputs": [],
   "source": [
    "model = Sequential()\n",
    "\n",
    "model.add(LSTM(units=100, return_sequences=True, input_shape=(x_train.shape[1],1)))\n",
    "model.add(Dropout(0.2))\n",
    "\n",
    "model.add(LSTM(units=100, return_sequences=True))\n",
    "model.add(Dropout(0.2))\n",
    "\n",
    "model.add(LSTM(units=100, return_sequences=True))\n",
    "model.add(Dropout(0.2))\n",
    "\n",
    "model.add(LSTM(units=100, return_sequences=False))\n",
    "model.add(Dropout(0.2))\n",
    "\n",
    "model.add(Dense(units=1))\n",
    "model.compile(optimizer='adam', loss='mean_squared_error')"
   ]
  },
  {
   "cell_type": "code",
   "execution_count": 34,
   "id": "159a817b",
   "metadata": {},
   "outputs": [
    {
     "name": "stdout",
     "output_type": "stream",
     "text": [
      "Epoch 1/100\n",
      "1144/1144 - 22s - loss: 0.0124 - 22s/epoch - 19ms/step\n",
      "Epoch 2/100\n",
      "1144/1144 - 14s - loss: 0.0072 - 14s/epoch - 12ms/step\n",
      "Epoch 3/100\n",
      "1144/1144 - 13s - loss: 0.0068 - 13s/epoch - 12ms/step\n",
      "Epoch 4/100\n",
      "1144/1144 - 12s - loss: 0.0057 - 12s/epoch - 10ms/step\n",
      "Epoch 5/100\n",
      "1144/1144 - 11s - loss: 0.0059 - 11s/epoch - 10ms/step\n",
      "Epoch 6/100\n",
      "1144/1144 - 11s - loss: 0.0037 - 11s/epoch - 10ms/step\n",
      "Epoch 7/100\n",
      "1144/1144 - 11s - loss: 0.0040 - 11s/epoch - 10ms/step\n",
      "Epoch 8/100\n",
      "1144/1144 - 11s - loss: 0.0035 - 11s/epoch - 10ms/step\n",
      "Epoch 9/100\n",
      "1144/1144 - 11s - loss: 0.0036 - 11s/epoch - 10ms/step\n",
      "Epoch 10/100\n",
      "1144/1144 - 11s - loss: 0.0034 - 11s/epoch - 10ms/step\n",
      "Epoch 11/100\n",
      "1144/1144 - 11s - loss: 0.0030 - 11s/epoch - 10ms/step\n",
      "Epoch 12/100\n",
      "1144/1144 - 11s - loss: 0.0030 - 11s/epoch - 10ms/step\n",
      "Epoch 13/100\n",
      "1144/1144 - 12s - loss: 0.0030 - 12s/epoch - 11ms/step\n",
      "Epoch 14/100\n",
      "1144/1144 - 12s - loss: 0.0033 - 12s/epoch - 10ms/step\n",
      "Epoch 15/100\n",
      "1144/1144 - 11s - loss: 0.0031 - 11s/epoch - 10ms/step\n",
      "Epoch 16/100\n",
      "1144/1144 - 11s - loss: 0.0029 - 11s/epoch - 10ms/step\n",
      "Epoch 17/100\n",
      "1144/1144 - 12s - loss: 0.0032 - 12s/epoch - 10ms/step\n",
      "Epoch 18/100\n",
      "1144/1144 - 11s - loss: 0.0028 - 11s/epoch - 10ms/step\n",
      "Epoch 19/100\n",
      "1144/1144 - 11s - loss: 0.0028 - 11s/epoch - 10ms/step\n",
      "Epoch 20/100\n",
      "1144/1144 - 11s - loss: 0.0028 - 11s/epoch - 10ms/step\n",
      "Epoch 21/100\n",
      "1144/1144 - 12s - loss: 0.0031 - 12s/epoch - 10ms/step\n",
      "Epoch 22/100\n",
      "1144/1144 - 13s - loss: 0.0025 - 13s/epoch - 11ms/step\n",
      "Epoch 23/100\n",
      "1144/1144 - 14s - loss: 0.0027 - 14s/epoch - 12ms/step\n",
      "Epoch 24/100\n",
      "1144/1144 - 12s - loss: 0.0029 - 12s/epoch - 11ms/step\n",
      "Epoch 25/100\n",
      "1144/1144 - 12s - loss: 0.0027 - 12s/epoch - 10ms/step\n",
      "Epoch 26/100\n",
      "1144/1144 - 11s - loss: 0.0026 - 11s/epoch - 10ms/step\n",
      "Epoch 27/100\n",
      "1144/1144 - 12s - loss: 0.0028 - 12s/epoch - 10ms/step\n",
      "Epoch 28/100\n",
      "1144/1144 - 12s - loss: 0.0024 - 12s/epoch - 10ms/step\n",
      "Epoch 29/100\n",
      "1144/1144 - 12s - loss: 0.0024 - 12s/epoch - 10ms/step\n",
      "Epoch 30/100\n",
      "1144/1144 - 11s - loss: 0.0025 - 11s/epoch - 10ms/step\n",
      "Epoch 31/100\n",
      "1144/1144 - 12s - loss: 0.0025 - 12s/epoch - 10ms/step\n",
      "Epoch 32/100\n",
      "1144/1144 - 11s - loss: 0.0022 - 11s/epoch - 10ms/step\n",
      "Epoch 33/100\n",
      "1144/1144 - 12s - loss: 0.0025 - 12s/epoch - 10ms/step\n",
      "Epoch 34/100\n",
      "1144/1144 - 13s - loss: 0.0023 - 13s/epoch - 11ms/step\n",
      "Epoch 35/100\n",
      "1144/1144 - 12s - loss: 0.0026 - 12s/epoch - 11ms/step\n",
      "Epoch 36/100\n",
      "1144/1144 - 11s - loss: 0.0024 - 11s/epoch - 10ms/step\n",
      "Epoch 37/100\n",
      "1144/1144 - 11s - loss: 0.0023 - 11s/epoch - 10ms/step\n",
      "Epoch 38/100\n",
      "1144/1144 - 13s - loss: 0.0023 - 13s/epoch - 11ms/step\n",
      "Epoch 39/100\n",
      "1144/1144 - 12s - loss: 0.0021 - 12s/epoch - 10ms/step\n",
      "Epoch 40/100\n",
      "1144/1144 - 11s - loss: 0.0020 - 11s/epoch - 10ms/step\n",
      "Epoch 41/100\n",
      "1144/1144 - 11s - loss: 0.0021 - 11s/epoch - 10ms/step\n",
      "Epoch 42/100\n",
      "1144/1144 - 11s - loss: 0.0024 - 11s/epoch - 10ms/step\n",
      "Epoch 43/100\n",
      "1144/1144 - 12s - loss: 0.0024 - 12s/epoch - 10ms/step\n",
      "Epoch 44/100\n",
      "1144/1144 - 11s - loss: 0.0022 - 11s/epoch - 10ms/step\n",
      "Epoch 45/100\n",
      "1144/1144 - 11s - loss: 0.0022 - 11s/epoch - 10ms/step\n",
      "Epoch 46/100\n",
      "1144/1144 - 12s - loss: 0.0020 - 12s/epoch - 10ms/step\n",
      "Epoch 47/100\n",
      "1144/1144 - 12s - loss: 0.0023 - 12s/epoch - 10ms/step\n",
      "Epoch 48/100\n",
      "1144/1144 - 11s - loss: 0.0021 - 11s/epoch - 10ms/step\n",
      "Epoch 49/100\n",
      "1144/1144 - 12s - loss: 0.0020 - 12s/epoch - 11ms/step\n",
      "Epoch 50/100\n",
      "1144/1144 - 11s - loss: 0.0024 - 11s/epoch - 10ms/step\n",
      "Epoch 51/100\n",
      "1144/1144 - 12s - loss: 0.0020 - 12s/epoch - 10ms/step\n",
      "Epoch 52/100\n",
      "1144/1144 - 11s - loss: 0.0020 - 11s/epoch - 10ms/step\n",
      "Epoch 53/100\n",
      "1144/1144 - 11s - loss: 0.0021 - 11s/epoch - 10ms/step\n",
      "Epoch 54/100\n",
      "1144/1144 - 12s - loss: 0.0021 - 12s/epoch - 10ms/step\n",
      "Epoch 55/100\n",
      "1144/1144 - 12s - loss: 0.0019 - 12s/epoch - 10ms/step\n",
      "Epoch 56/100\n",
      "1144/1144 - 12s - loss: 0.0020 - 12s/epoch - 10ms/step\n",
      "Epoch 57/100\n",
      "1144/1144 - 11s - loss: 0.0019 - 11s/epoch - 10ms/step\n",
      "Epoch 58/100\n",
      "1144/1144 - 11s - loss: 0.0019 - 11s/epoch - 10ms/step\n",
      "Epoch 59/100\n",
      "1144/1144 - 11s - loss: 0.0020 - 11s/epoch - 10ms/step\n",
      "Epoch 60/100\n",
      "1144/1144 - 11s - loss: 0.0018 - 11s/epoch - 10ms/step\n",
      "Epoch 61/100\n",
      "1144/1144 - 13s - loss: 0.0020 - 13s/epoch - 11ms/step\n",
      "Epoch 62/100\n",
      "1144/1144 - 13s - loss: 0.0021 - 13s/epoch - 11ms/step\n",
      "Epoch 63/100\n",
      "1144/1144 - 12s - loss: 0.0018 - 12s/epoch - 10ms/step\n",
      "Epoch 64/100\n",
      "1144/1144 - 12s - loss: 0.0018 - 12s/epoch - 10ms/step\n",
      "Epoch 65/100\n",
      "1144/1144 - 12s - loss: 0.0017 - 12s/epoch - 10ms/step\n",
      "Epoch 66/100\n",
      "1144/1144 - 11s - loss: 0.0018 - 11s/epoch - 10ms/step\n",
      "Epoch 67/100\n",
      "1144/1144 - 12s - loss: 0.0020 - 12s/epoch - 10ms/step\n",
      "Epoch 68/100\n",
      "1144/1144 - 12s - loss: 0.0018 - 12s/epoch - 10ms/step\n",
      "Epoch 69/100\n",
      "1144/1144 - 12s - loss: 0.0019 - 12s/epoch - 10ms/step\n",
      "Epoch 70/100\n",
      "1144/1144 - 14s - loss: 0.0018 - 14s/epoch - 12ms/step\n",
      "Epoch 71/100\n",
      "1144/1144 - 14s - loss: 0.0019 - 14s/epoch - 12ms/step\n",
      "Epoch 72/100\n",
      "1144/1144 - 12s - loss: 0.0019 - 12s/epoch - 11ms/step\n",
      "Epoch 73/100\n",
      "1144/1144 - 12s - loss: 0.0019 - 12s/epoch - 10ms/step\n",
      "Epoch 74/100\n",
      "1144/1144 - 12s - loss: 0.0020 - 12s/epoch - 11ms/step\n",
      "Epoch 75/100\n",
      "1144/1144 - 12s - loss: 0.0019 - 12s/epoch - 11ms/step\n",
      "Epoch 76/100\n",
      "1144/1144 - 14s - loss: 0.0020 - 14s/epoch - 12ms/step\n",
      "Epoch 77/100\n",
      "1144/1144 - 12s - loss: 0.0018 - 12s/epoch - 10ms/step\n",
      "Epoch 78/100\n",
      "1144/1144 - 12s - loss: 0.0020 - 12s/epoch - 11ms/step\n",
      "Epoch 79/100\n",
      "1144/1144 - 12s - loss: 0.0018 - 12s/epoch - 11ms/step\n",
      "Epoch 80/100\n",
      "1144/1144 - 13s - loss: 0.0019 - 13s/epoch - 11ms/step\n",
      "Epoch 81/100\n",
      "1144/1144 - 13s - loss: 0.0018 - 13s/epoch - 11ms/step\n",
      "Epoch 82/100\n",
      "1144/1144 - 13s - loss: 0.0018 - 13s/epoch - 11ms/step\n",
      "Epoch 83/100\n",
      "1144/1144 - 13s - loss: 0.0018 - 13s/epoch - 11ms/step\n",
      "Epoch 84/100\n",
      "1144/1144 - 13s - loss: 0.0019 - 13s/epoch - 12ms/step\n",
      "Epoch 85/100\n",
      "1144/1144 - 13s - loss: 0.0019 - 13s/epoch - 12ms/step\n",
      "Epoch 86/100\n",
      "1144/1144 - 13s - loss: 0.0019 - 13s/epoch - 12ms/step\n",
      "Epoch 87/100\n",
      "1144/1144 - 14s - loss: 0.0018 - 14s/epoch - 12ms/step\n",
      "Epoch 88/100\n",
      "1144/1144 - 13s - loss: 0.0017 - 13s/epoch - 12ms/step\n",
      "Epoch 89/100\n",
      "1144/1144 - 14s - loss: 0.0018 - 14s/epoch - 12ms/step\n",
      "Epoch 90/100\n",
      "1144/1144 - 14s - loss: 0.0018 - 14s/epoch - 13ms/step\n",
      "Epoch 91/100\n",
      "1144/1144 - 14s - loss: 0.0019 - 14s/epoch - 12ms/step\n",
      "Epoch 92/100\n",
      "1144/1144 - 14s - loss: 0.0019 - 14s/epoch - 12ms/step\n",
      "Epoch 93/100\n",
      "1144/1144 - 14s - loss: 0.0018 - 14s/epoch - 12ms/step\n",
      "Epoch 94/100\n",
      "1144/1144 - 14s - loss: 0.0018 - 14s/epoch - 12ms/step\n",
      "Epoch 95/100\n",
      "1144/1144 - 14s - loss: 0.0018 - 14s/epoch - 12ms/step\n",
      "Epoch 96/100\n",
      "1144/1144 - 14s - loss: 0.0018 - 14s/epoch - 12ms/step\n",
      "Epoch 97/100\n",
      "1144/1144 - 14s - loss: 0.0018 - 14s/epoch - 12ms/step\n",
      "Epoch 98/100\n",
      "1144/1144 - 14s - loss: 0.0016 - 14s/epoch - 12ms/step\n",
      "Epoch 99/100\n",
      "1144/1144 - 14s - loss: 0.0017 - 14s/epoch - 12ms/step\n",
      "Epoch 100/100\n",
      "1144/1144 - 14s - loss: 0.0018 - 14s/epoch - 12ms/step\n"
     ]
    }
   ],
   "source": [
    "# training our model\n",
    "hist = model.fit(x_train, y_train, epochs=100, batch_size=1, verbose=2)"
   ]
  },
  {
   "cell_type": "code",
   "execution_count": 35,
   "id": "c849e140",
   "metadata": {},
   "outputs": [
    {
     "data": {
      "image/png": "[encoded data removed]",
      "text/plain": [
       "<Figure size 640x480 with 1 Axes>"
      ]
     },
     "metadata": {},
     "output_type": "display_data"
    }
   ],
   "source": [
    "# visualizing the loss at each epoch\n",
    "plt.plot(hist.history[\"loss\"])\n",
    "plt.title(\"Training Model Loss\")\n",
    "plt.xlabel(\"epoch\")\n",
    "plt.ylabel(\"loss\")\n",
    "plt.legend([\"train\"], loc=\"upper left\")\n",
    "plt.show()"
   ]
  },
  {
   "cell_type": "code",
   "execution_count": 36,
   "id": "ececd07c",
   "metadata": {},
   "outputs": [
    {
     "name": "stdout",
     "output_type": "stream",
     "text": [
      "[[804.79]\n",
      " [807.91]\n",
      " [806.36]\n",
      " [807.88]\n",
      " [804.61]\n",
      " [806.07]\n",
      " [802.17]\n",
      " [805.02]\n",
      " [819.31]\n",
      " [823.87]\n",
      " [835.67]\n",
      " [832.15]\n",
      " [823.31]\n",
      " [802.32]\n",
      " [796.79]]\n",
      "(20, 1)\n"
     ]
    },
    {
     "data": {
      "text/plain": [
       "(15, 5, 1)"
      ]
     },
     "execution_count": 36,
     "metadata": {},
     "output_type": "execute_result"
    }
   ],
   "source": [
    "# testing out model, using the test dataset\n",
    "\n",
    "testdata = pd.read_csv(\"Google_Stock_Price_Test.csv\")\n",
    "# print(testdata)\n",
    "testdata[\"Close\"] = pd.to_numeric(testdata.Close, errors=\"coerce\")\n",
    "# print(testdata.info())\n",
    "testdata = testdata.dropna()\n",
    "testdata= testdata.iloc[:,4:5]\n",
    "# print(testdata)\n",
    "# print(testdata.shape)\n",
    "y_test = testdata.iloc[ 5: , 0:].values\n",
    "# y_test = testdata.iloc[ : , : ].values\n",
    "print(y_test)\n",
    "\n",
    "# # input array for the model\n",
    "inputclosing = testdata.iloc[:,0:].values\n",
    "# print(inputclosing)\n",
    "inputclosing_scaled =  sc.transform(inputclosing)\n",
    "# print(inputclosing_scaled)\n",
    "print(inputclosing_scaled.shape)\n",
    "\n",
    "x_test = []\n",
    "length = len(testdata)\n",
    "timestep = 5\n",
    "\n",
    "for i in range(5, 20):\n",
    "    x_test.append(inputclosing_scaled[i-5:i,0])\n",
    "# print(x_test)\n",
    "\n",
    "x_test = np.array(x_test)\n",
    "# print(x_test)\n",
    "x_test = np.reshape(x_test, (x_test.shape[0], x_test.shape[1], 1))\n",
    "x_test.shape"
   ]
  },
  {
   "cell_type": "code",
   "execution_count": 37,
   "id": "27680861",
   "metadata": {},
   "outputs": [
    {
     "name": "stdout",
     "output_type": "stream",
     "text": [
      "1/1 [==============================] - 3s 3s/step\n"
     ]
    }
   ],
   "source": [
    "y_pred = model.predict(x_test)\n",
    "# print(y_pred)"
   ]
  },
  {
   "cell_type": "code",
   "execution_count": 38,
   "id": "a30f0b5b",
   "metadata": {},
   "outputs": [
    {
     "name": "stdout",
     "output_type": "stream",
     "text": [
      "[[808.81775]\n",
      " [807.5137 ]\n",
      " [811.34436]\n",
      " [811.75616]\n",
      " [813.63074]\n",
      " [809.8685 ]\n",
      " [812.2305 ]\n",
      " [807.9636 ]\n",
      " [811.39404]\n",
      " [823.19763]\n",
      " [826.7549 ]\n",
      " [837.1062 ]\n",
      " [832.73395]\n",
      " [828.78784]\n",
      " [809.89386]]\n"
     ]
    }
   ],
   "source": [
    "# to plot actual and predicted\n",
    "\n",
    "predicted_price = sc.inverse_transform(y_pred)\n",
    "\n",
    "print(predicted_price)"
   ]
  },
  {
   "cell_type": "code",
   "execution_count": 39,
   "id": "14f8c9ad",
   "metadata": {},
   "outputs": [
    {
     "data": {
      "image/png": "[encoded data removed]",
      "text/plain": [
       "<Figure size 640x480 with 1 Axes>"
      ]
     },
     "metadata": {},
     "output_type": "display_data"
    }
   ],
   "source": [
    "#ploting\n",
    "\n",
    "plt.plot(y_test, color=\"red\")\n",
    "plt.plot(predicted_price, color=\"green\")\n",
    "plt.title(\"Google stocks price prediction\")\n",
    "plt.xlabel(\"time\")\n",
    "plt.ylabel(\"Stocks Price\")\n",
    "plt.legend([\"Actual Stock Price\", \"Preicted Stock Price\"])\n",
    "plt.show()"
   ]
  },
  {
   "cell_type": "code",
   "execution_count": null,
   "id": "66352a2a",
   "metadata": {},
   "outputs": [],
   "source": []
  }
 ],
 "metadata": {
  "kernelspec": {
   "display_name": "Python 3 (ipykernel)",
   "language": "python",
   "name": "python3"
  },
  "language_info": {
   "codemirror_mode": {
    "name": "ipython",
    "version": 3
   },
   "file_extension": ".py",
   "mimetype": "text/x-python",
   "name": "python",
   "nbconvert_exporter": "python",
   "pygments_lexer": "ipython3",
   "version": "3.10.9"
  }
 },
 "nbformat": 4,
 "nbformat_minor": 5
}
